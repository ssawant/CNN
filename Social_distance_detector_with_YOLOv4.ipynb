{
  "nbformat": 4,
  "nbformat_minor": 0,
  "metadata": {
    "colab": {
      "name": "Social_distance_detector_with_YOLOv4.ipynb",
      "provenance": [],
      "authorship_tag": "ABX9TyOeRbHOov712NAH+FVh9Iyn",
      "include_colab_link": true
    },
    "kernelspec": {
      "name": "python3",
      "display_name": "Python 3"
    },
    "language_info": {
      "name": "python"
    },
    "accelerator": "GPU"
  },
  "cells": [
    {
      "cell_type": "markdown",
      "metadata": {
        "id": "view-in-github",
        "colab_type": "text"
      },
      "source": [
        "<a href=\"https://colab.research.google.com/github/ssawant/CNN/blob/main/Social_distance_detector_with_YOLOv4.ipynb\" target=\"_parent\"><img src=\"https://colab.research.google.com/assets/colab-badge.svg\" alt=\"Open In Colab\"/></a>"
      ]
    },
    {
      "cell_type": "code",
      "metadata": {
        "colab": {
          "base_uri": "https://localhost:8080/"
        },
        "id": "4omINqfcahui",
        "outputId": "65d93134-a957-4217-a46d-e90d73a5bb70"
      },
      "source": [
        "import tensorflow as tf\n",
        "print(tf.__version__)"
      ],
      "execution_count": null,
      "outputs": [
        {
          "output_type": "stream",
          "text": [
            "2.4.1\n"
          ],
          "name": "stdout"
        }
      ]
    },
    {
      "cell_type": "code",
      "metadata": {
        "id": "Ta7BLPKqb8RA"
      },
      "source": [
        "import math"
      ],
      "execution_count": null,
      "outputs": []
    },
    {
      "cell_type": "code",
      "metadata": {
        "id": "htlu42jUa3s2"
      },
      "source": [
        "def is_close(p1, p2):\n",
        "  \"\"\"\n",
        "  is_close: calcuate Euclidean distance between two point p1 and p2\n",
        "  :param:\n",
        "  p1, p2 - two point for calculating Euclidean distance\n",
        "\n",
        "  :return:\n",
        "  Euclidean distance between given two point\n",
        "  \"\"\"\n",
        "  return math.sqrt(p1**2 + p2**2)"
      ],
      "execution_count": null,
      "outputs": []
    },
    {
      "cell_type": "code",
      "metadata": {
        "id": "ZfM-jvtUcUwh"
      },
      "source": [
        "def convert_back(x, y, w, h):\n",
        "  \"\"\"\n",
        "  convert_back: convert center coordinate to rectangle coordinate\n",
        "  :param:\n",
        "  x, y - midpoint of bbox\n",
        "  w, h - width and height of bbox\n",
        "\n",
        "  :return:\n",
        "  xmin, ymin, xmax, ymax\n",
        "  \"\"\"\n",
        "\n",
        "  xmin = int(round(x - (w/2)))\n",
        "  xmax = int(round(x + (w/2)))\n",
        "  ymin = int(round(y - (h/2)))\n",
        "  ymax = int(round(y + (h/2)))\n",
        "\n",
        "  return xmin, ymin, xmax, ymax"
      ],
      "execution_count": null,
      "outputs": []
    },
    {
      "cell_type": "code",
      "metadata": {
        "id": "k7C_bl7HkbhI"
      },
      "source": [
        "from itertools import combinations\n",
        "import cv2"
      ],
      "execution_count": null,
      "outputs": []
    },
    {
      "cell_type": "code",
      "metadata": {
        "id": "bV66QSfifS2Q"
      },
      "source": [
        "def cv_box(detections, img):\n",
        "    \"\"\"\n",
        "    :param:\n",
        "    detections - total detection in one frame\n",
        "    img - image from detect_image method from darknet\n",
        "  \n",
        "    :return:\n",
        "    img with bounding box\n",
        "    \"\"\"\n",
        "\n",
        "    # Filtering the person class from detections and get bounding box centroid for each person detection\n",
        "\n",
        "    if len(detections > 0):  # Atleast one detection in the image and check detection presence in the frame\n",
        "        centroid_dict = dict()\n",
        "        object_id = 0\n",
        "\n",
        "        for detection in detections:  # if statement, we filter all the detections for person only\n",
        "            # check for only person name tag\n",
        "            name_tag = str(detector[0].decode())  # coco file have strings of all the name\n",
        "            if name_tag == 'person':\n",
        "                x, y, w, h = detection[2][0], detection[2][1], detection[2][2], detection[2][3]  # store center coordinate of the detection\n",
        "                xmin, ymin, xmax, ymax = convert_back(float(x), float(y), float(w),\n",
        "                                                      float(h))  # convert center coordinate to rectangle coordinate\n",
        "\n",
        "                # Append center point of bbox for person detection.\n",
        "                centroid_dict[object_id] = (int(x), int(y), xmin, ymin, xmax, ymax)\n",
        "                object_id += 1  # increment object_id for each object(person) detected\n",
        "\n",
        "        # Check which person bonding box are closer to each other\n",
        "\n",
        "        red_zone_list = []  # List containing ObjectId under threshold distance condition.\n",
        "        red_line_list = []\n",
        "\n",
        "        for (id1, p1), (id2, p2) in combinations(centroid_dict.items(), 2):  # get all combination of close detection. List of multiple items - id1, p1 , p2, p3\n",
        "            dx, dy = p1[0] - p2[0], p1[1] - p2[1]  # check distance between centroid x: 0, y: 1\n",
        "            distance = is_close(dx, dy)  # calculates the Euclidean distance\n",
        "            if distance < 75.0:  # set the social distance threashold\n",
        "                if id1 not in red_zone_list:\n",
        "                    red_zone_list.append(id1)  # add id to the red_zone list\n",
        "                    red_line_list.append(p1[0:2])  # add points to the red_line list\n",
        "                if id2 not in red_zone_list:\n",
        "                    red_zone_list.append(id2)  # same for second id\n",
        "                    red_line_list.append(p2[0:2])\n",
        "\n",
        "        for idx, box in centroid_dict.items():  # dict (1(key):red(value), 2 blue) idx - key box - value\n",
        "            if idx in red_zone_list:\n",
        "                cv2.rectangle(img, (box[2], box[3]), (box[4], box[5]), (255, 0, 0), 2)  # Create red bounding box  #starting point, ending point size of 2\n",
        "            else:\n",
        "                cv2.rectangle(img, (box[2], box[3]), (box[4], box[5]), (0, 255, 0), 2)  # Create green bounding box\n",
        "\n",
        "        # Display risk analysis and risk indicator \n",
        "\n",
        "        text = f\"No of at-risk people: {str(len(red_zone_list))}\"  # Count people at risk\n",
        "        location = (10, 25)  # Set location of display text\n",
        "        cv2.putText(img, text, location, cv2.FONT_HERSHEY_SIMPLEX, 1, (246, 86, 86), 2, cv2.LINE_AA)  # Display Text\n",
        "\n",
        "        for check in range(0, len(red_line_list) - 1):  # Draw line between nearby bbox iterate through red list items\n",
        "            start_point = red_line_list[check]\n",
        "            end_point = red_line_list[check + 1]\n",
        "            check_line_x = abs(end_point[0] - start_point[0])  # Calculate the line coordinate for x\n",
        "            check_line_y = abs(end_point[1] - start_point[1])  # Calculate the line coordinate for y\n",
        "            if (check_line_x < 75) and (check_line_y < 25):\n",
        "                cv2.line(img, start_point, end_point, (255, 0, 0), 2)  # Check the threshold and display the line\n",
        "\n",
        "    return img"
      ],
      "execution_count": null,
      "outputs": []
    },
    {
      "cell_type": "code",
      "metadata": {
        "id": "GI6mDaBrq9r3"
      },
      "source": [
        "NET_MAIN = None\n",
        "META_MAIN = None\n",
        "ALT_MAIN = None"
      ],
      "execution_count": null,
      "outputs": []
    },
    {
      "cell_type": "markdown",
      "metadata": {
        "id": "6vbw8Lse1_2D"
      },
      "source": [
        "## Check CUDA version and install necessary dives if required"
      ]
    },
    {
      "cell_type": "code",
      "metadata": {
        "id": "ziRC0Qk8Doc6",
        "colab": {
          "base_uri": "https://localhost:8080/"
        },
        "outputId": "b9668042-7a9c-4140-8b3b-09ee0a5c4ba4"
      },
      "source": [
        "# CUDA: Let's check that Nvidia CUDA drivers are already pre-installed and which version is it.\n",
        "!/usr/local/cuda/bin/nvcc --version"
      ],
      "execution_count": 1,
      "outputs": [
        {
          "output_type": "stream",
          "text": [
            "nvcc: NVIDIA (R) Cuda compiler driver\n",
            "Copyright (c) 2005-2020 NVIDIA Corporation\n",
            "Built on Wed_Jul_22_19:09:09_PDT_2020\n",
            "Cuda compilation tools, release 11.0, V11.0.221\n",
            "Build cuda_11.0_bu.TC445_37.28845127_0\n"
          ],
          "name": "stdout"
        }
      ]
    },
    {
      "cell_type": "code",
      "metadata": {
        "id": "73PzZ-JbzWLy",
        "colab": {
          "base_uri": "https://localhost:8080/"
        },
        "outputId": "9d019937-d765-4936-878b-d7c9b424ba6c"
      },
      "source": [
        "!nvidia-smi"
      ],
      "execution_count": 2,
      "outputs": [
        {
          "output_type": "stream",
          "text": [
            "Tue Mar 23 02:11:09 2021       \n",
            "+-----------------------------------------------------------------------------+\n",
            "| NVIDIA-SMI 460.56       Driver Version: 460.32.03    CUDA Version: 11.2     |\n",
            "|-------------------------------+----------------------+----------------------+\n",
            "| GPU  Name        Persistence-M| Bus-Id        Disp.A | Volatile Uncorr. ECC |\n",
            "| Fan  Temp  Perf  Pwr:Usage/Cap|         Memory-Usage | GPU-Util  Compute M. |\n",
            "|                               |                      |               MIG M. |\n",
            "|===============================+======================+======================|\n",
            "|   0  Tesla V100-SXM2...  Off  | 00000000:00:04.0 Off |                    0 |\n",
            "| N/A   34C    P0    24W / 300W |      0MiB / 16160MiB |      0%      Default |\n",
            "|                               |                      |                  N/A |\n",
            "+-------------------------------+----------------------+----------------------+\n",
            "                                                                               \n",
            "+-----------------------------------------------------------------------------+\n",
            "| Processes:                                                                  |\n",
            "|  GPU   GI   CI        PID   Type   Process name                  GPU Memory |\n",
            "|        ID   ID                                                   Usage      |\n",
            "|=============================================================================|\n",
            "|  No running processes found                                                 |\n",
            "+-----------------------------------------------------------------------------+\n"
          ],
          "name": "stdout"
        }
      ]
    },
    {
      "cell_type": "code",
      "metadata": {
        "colab": {
          "base_uri": "https://localhost:8080/"
        },
        "id": "wJEhrqAUD24m",
        "outputId": "b5bd61cf-4e3f-4300-f863-f5b25355e880"
      },
      "source": [
        "# This cell ensures you have the correct architecture for your respective GPU\n",
        "# If you command is not found, look through these GPUs, find the respective\n",
        "# GPU and add them to the archTypes dictionary\n",
        "\n",
        "# Tesla V100\n",
        "# ARCH= -gencode arch=compute_70,code=[sm_70,compute_70]\n",
        "\n",
        "# Tesla K80 \n",
        "# ARCH= -gencode arch=compute_37,code=sm_37\n",
        "\n",
        "# GeForce RTX 2080 Ti, RTX 2080, RTX 2070, Quadro RTX 8000, Quadro RTX 6000, Quadro RTX 5000, Tesla T4, XNOR Tensor Cores\n",
        "# ARCH= -gencode arch=compute_75,code=[sm_75,compute_75]\n",
        "\n",
        "# Jetson XAVIER\n",
        "# ARCH= -gencode arch=compute_72,code=[sm_72,compute_72]\n",
        "\n",
        "# GTX 1080, GTX 1070, GTX 1060, GTX 1050, GTX 1030, Titan Xp, Tesla P40, Tesla P4\n",
        "# ARCH= -gencode arch=compute_61,code=sm_61\n",
        "\n",
        "# GP100/Tesla P100 - DGX-1\n",
        "# ARCH= -gencode arch=compute_60,code=sm_60\n",
        "\n",
        "# For Jetson TX1, Tegra X1, DRIVE CX, DRIVE PX - uncomment:\n",
        "# ARCH= -gencode arch=compute_53,code=[sm_53,compute_53]\n",
        "\n",
        "# For Jetson Tx2 or Drive-PX2 uncomment:\n",
        "# ARCH= -gencode arch=compute_62,code=[sm_62,compute_62]\n",
        "import os\n",
        "os.environ['GPU_TYPE'] = str(os.popen('nvidia-smi --query-gpu=name --format=csv,noheader').read())\n",
        "\n",
        "def getGPUArch(argument):\n",
        "  try:\n",
        "    argument = argument.strip()\n",
        "    # All Colab GPUs\n",
        "    archTypes = {\n",
        "        \"Tesla V100-SXM2-16GB\": \"-gencode arch=compute_70,code=[sm_70,compute_70]\",\n",
        "        \"Tesla K80\": \"-gencode arch=compute_37,code=sm_37\",\n",
        "        \"Tesla T4\": \"-gencode arch=compute_75,code=[sm_75,compute_75]\",\n",
        "        \"Tesla P40\": \"-gencode arch=compute_61,code=sm_61\",\n",
        "        \"Tesla P4\": \"-gencode arch=compute_61,code=sm_61\",\n",
        "        \"Tesla P100-PCIE-16GB\": \"-gencode arch=compute_60,code=sm_60\"\n",
        "\n",
        "      }\n",
        "    return archTypes[argument]\n",
        "  except KeyError:\n",
        "    return \"GPU must be added to GPU Commands\"\n",
        "os.environ['ARCH_VALUE'] = getGPUArch(os.environ['GPU_TYPE'])\n",
        "\n",
        "print(\"GPU Type: \" + os.environ['GPU_TYPE'])\n",
        "print(\"ARCH Value: \" + os.environ['ARCH_VALUE'])"
      ],
      "execution_count": 3,
      "outputs": [
        {
          "output_type": "stream",
          "text": [
            "GPU Type: Tesla V100-SXM2-16GB\n",
            "\n",
            "ARCH Value: -gencode arch=compute_70,code=[sm_70,compute_70]\n"
          ],
          "name": "stdout"
        }
      ]
    },
    {
      "cell_type": "markdown",
      "metadata": {
        "id": "cmwuc0_G21wh"
      },
      "source": [
        "## Installing Darknet for YOLOv4 on Colab\n"
      ]
    },
    {
      "cell_type": "code",
      "metadata": {
        "colab": {
          "base_uri": "https://localhost:8080/"
        },
        "id": "TUlUAq_12m4u",
        "outputId": "d6744999-7f5e-48c5-8780-7e3d043196e7"
      },
      "source": [
        "%cd /content/\n",
        "%rm -rf darknet"
      ],
      "execution_count": 4,
      "outputs": [
        {
          "output_type": "stream",
          "text": [
            "/content\n"
          ],
          "name": "stdout"
        }
      ]
    },
    {
      "cell_type": "code",
      "metadata": {
        "id": "xQIH18ZAuVWN"
      },
      "source": [
        "def yolo():\n",
        "  \"\"\"\n",
        "  Perform object detection\n",
        "  \"\"\"\n",
        "  global NET_MAIN, META_MAIN, ALT_MAIN\n",
        "  config_path = ''\n",
        "  weight_path = ''\n",
        "  meta_path = ''\n",
        "\n",
        "  \n",
        "\n",
        "\n",
        "\n"
      ],
      "execution_count": null,
      "outputs": []
    }
  ]
}