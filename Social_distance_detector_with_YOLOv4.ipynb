{
  "nbformat": 4,
  "nbformat_minor": 0,
  "metadata": {
    "colab": {
      "name": "Social_distance_detector_with_YOLOv4.ipynb",
      "provenance": [],
      "authorship_tag": "ABX9TyNSolN5kZEELtwJtZpJoD5u",
      "include_colab_link": true
    },
    "kernelspec": {
      "name": "python3",
      "display_name": "Python 3"
    },
    "language_info": {
      "name": "python"
    }
  },
  "cells": [
    {
      "cell_type": "markdown",
      "metadata": {
        "id": "view-in-github",
        "colab_type": "text"
      },
      "source": [
        "<a href=\"https://colab.research.google.com/github/ssawant/CNN/blob/main/Social_distance_detector_with_YOLOv4.ipynb\" target=\"_parent\"><img src=\"https://colab.research.google.com/assets/colab-badge.svg\" alt=\"Open In Colab\"/></a>"
      ]
    },
    {
      "cell_type": "code",
      "metadata": {
        "colab": {
          "base_uri": "https://localhost:8080/"
        },
        "id": "4omINqfcahui",
        "outputId": "65d93134-a957-4217-a46d-e90d73a5bb70"
      },
      "source": [
        "import tensorflow as tf\n",
        "print(tf.__version__)"
      ],
      "execution_count": 1,
      "outputs": [
        {
          "output_type": "stream",
          "text": [
            "2.4.1\n"
          ],
          "name": "stdout"
        }
      ]
    },
    {
      "cell_type": "code",
      "metadata": {
        "id": "Ta7BLPKqb8RA"
      },
      "source": [
        "import math"
      ],
      "execution_count": 2,
      "outputs": []
    },
    {
      "cell_type": "code",
      "metadata": {
        "id": "htlu42jUa3s2"
      },
      "source": [
        "def is_close(p1, p2):\n",
        "  \"\"\"\n",
        "  is_close: calcuate Euclidean distance between two point p1 and p2\n",
        "  :param:\n",
        "  p1, p2 - two point for calculating Euclidean distance\n",
        "\n",
        "  :return:\n",
        "  Euclidean distance between given two point\n",
        "  \"\"\"\n",
        "  return math.sqrt(p1**2 + p2**2)"
      ],
      "execution_count": 18,
      "outputs": []
    },
    {
      "cell_type": "code",
      "metadata": {
        "id": "ZfM-jvtUcUwh"
      },
      "source": [
        "def convert_back(x, y, w, h):\n",
        "  \"\"\"\n",
        "  convert_back: convert center coordinate to rectangle coordinate\n",
        "  :param:\n",
        "  x, y - midpoint of bbox\n",
        "  w, h - width and height of bbox\n",
        "\n",
        "  :return:\n",
        "  xmin, ymin, xmax, ymax\n",
        "  \"\"\"\n",
        "\n",
        "  xmin = int(round(x - (w/2)))\n",
        "  xmax = int(round(x + (w/2)))\n",
        "  ymin = int(round(y - (h/2)))\n",
        "  ymax = int(round(y + (h/2)))\n",
        "\n",
        "  return xmin, ymin, xmax, ymax"
      ],
      "execution_count": 19,
      "outputs": []
    },
    {
      "cell_type": "code",
      "metadata": {
        "id": "k7C_bl7HkbhI"
      },
      "source": [
        "from itertools import combinations\n",
        "import cv2"
      ],
      "execution_count": 20,
      "outputs": []
    },
    {
      "cell_type": "code",
      "metadata": {
        "id": "bV66QSfifS2Q"
      },
      "source": [
        "def cv_box(detections, img):\n",
        "    \"\"\"\n",
        "    :param:\n",
        "    detections - total detection in one frame\n",
        "    img - image from detect_image method from darknet\n",
        "  \n",
        "    :return:\n",
        "    img with bounding box\n",
        "    \"\"\"\n",
        "\n",
        "    # Filtering the person class from detections and get bounding box centroid for each person detection\n",
        "\n",
        "    if len(detections > 0):  # Atleast one detection in the image and check detection presence in the frame\n",
        "        centroid_dict = dict()\n",
        "        object_id = 0\n",
        "\n",
        "        for detection in detections:  # if statement, we filter all the detections for person only\n",
        "            # check for only person name tag\n",
        "            name_tag = str(detector[0].decode())  # coco file have strings of all the name\n",
        "            if name_tag == 'person':\n",
        "                x, y, w, h = detection[2][0], detection[2][1], detection[2][2], detection[2][3]  # store center coordinate of the detection\n",
        "                xmin, ymin, xmax, ymax = convert_back(float(x), float(y), float(w),\n",
        "                                                      float(h))  # convert center coordinate to rectangle coordinate\n",
        "\n",
        "                # Append center point of bbox for person detection.\n",
        "                centroid_dict[object_id] = (int(x), int(y), xmin, ymin, xmax, ymax)\n",
        "                object_id += 1  # increment object_id for each object(person) detected\n",
        "\n",
        "        # Check which person bonding box are closer to each other\n",
        "\n",
        "        red_zone_list = []  # List containing ObjectId under threshold distance condition.\n",
        "        red_line_list = []\n",
        "\n",
        "        for (id1, p1), (id2, p2) in combinations(centroid_dict.items(), 2):  # get all combination of close detection. List of multiple items - id1, p1 , p2, p3\n",
        "            dx, dy = p1[0] - p2[0], p1[1] - p2[1]  # check distance between centroid x: 0, y: 1\n",
        "            distance = is_close(dx, dy)  # calculates the Euclidean distance\n",
        "            if distance < 75.0:  # set the social distance threashold\n",
        "                if id1 not in red_zone_list:\n",
        "                    red_zone_list.append(id1)  # add id to the red_zone list\n",
        "                    red_line_list.append(p1[0:2])  # add points to the red_line list\n",
        "                if id2 not in red_zone_list:\n",
        "                    red_zone_list.append(id2)  # same for second id\n",
        "                    red_line_list.append(p2[0:2])\n",
        "\n",
        "        for idx, box in centroid_dict.items():  # dict (1(key):red(value), 2 blue) idx - key box - value\n",
        "            if idx in red_zone_list:\n",
        "                cv2.rectangle(img, (box[2], box[3]), (box[4], box[5]), (255, 0, 0), 2)  # Create red bounding box  #starting point, ending point size of 2\n",
        "            else:\n",
        "                cv2.rectangle(img, (box[2], box[3]), (box[4], box[5]), (0, 255, 0), 2)  # Create green bounding box\n",
        "\n",
        "        # Display risk analysis and risk indicator \n",
        "\n",
        "        text = f\"No of at-risk people: {str(len(red_zone_list))}\"  # Count people at risk\n",
        "        location = (10, 25)  # Set location of display text\n",
        "        cv2.putText(img, text, location, cv2.FONT_HERSHEY_SIMPLEX, 1, (246, 86, 86), 2, cv2.LINE_AA)  # Display Text\n",
        "\n",
        "        for check in range(0, len(red_line_list) - 1):  # Draw line between nearby bbox iterate through red list items\n",
        "            start_point = red_line_list[check]\n",
        "            end_point = red_line_list[check + 1]\n",
        "            check_line_x = abs(end_point[0] - start_point[0])  # Calculate the line coordinate for x\n",
        "            check_line_y = abs(end_point[1] - start_point[1])  # Calculate the line coordinate for y\n",
        "            if (check_line_x < 75) and (check_line_y < 25):\n",
        "                cv2.line(img, start_point, end_point, (255, 0, 0), 2)  # Check the threshold and display the line\n",
        "\n",
        "    return img"
      ],
      "execution_count": 16,
      "outputs": []
    },
    {
      "cell_type": "code",
      "metadata": {
        "id": "GI6mDaBrq9r3"
      },
      "source": [
        "NET_MAIN = None\n",
        "META_MAIN = None\n",
        "ALT_MAIN = None"
      ],
      "execution_count": 21,
      "outputs": []
    },
    {
      "cell_type": "code",
      "metadata": {
        "id": "ziRC0Qk8Doc6"
      },
      "source": [
        "!pip install darknet"
      ],
      "execution_count": null,
      "outputs": []
    },
    {
      "cell_type": "code",
      "metadata": {
        "id": "73PzZ-JbzWLy"
      },
      "source": [
        "import darknet"
      ],
      "execution_count": 33,
      "outputs": []
    },
    {
      "cell_type": "code",
      "metadata": {
        "colab": {
          "base_uri": "https://localhost:8080/"
        },
        "id": "wJEhrqAUD24m",
        "outputId": "0f2f41e9-561d-4cc3-8ce5-81d02bee76a5"
      },
      "source": [
        "!nvidia-smi"
      ],
      "execution_count": 1,
      "outputs": [
        {
          "output_type": "stream",
          "text": [
            "Mon Mar 22 08:57:28 2021       \n",
            "+-----------------------------------------------------------------------------+\n",
            "| NVIDIA-SMI 460.56       Driver Version: 460.32.03    CUDA Version: 11.2     |\n",
            "|-------------------------------+----------------------+----------------------+\n",
            "| GPU  Name        Persistence-M| Bus-Id        Disp.A | Volatile Uncorr. ECC |\n",
            "| Fan  Temp  Perf  Pwr:Usage/Cap|         Memory-Usage | GPU-Util  Compute M. |\n",
            "|                               |                      |               MIG M. |\n",
            "|===============================+======================+======================|\n",
            "|   0  Tesla P100-PCIE...  Off  | 00000000:00:04.0 Off |                    0 |\n",
            "| N/A   36C    P0    26W / 250W |      0MiB / 16280MiB |      0%      Default |\n",
            "|                               |                      |                  N/A |\n",
            "+-------------------------------+----------------------+----------------------+\n",
            "                                                                               \n",
            "+-----------------------------------------------------------------------------+\n",
            "| Processes:                                                                  |\n",
            "|  GPU   GI   CI        PID   Type   Process name                  GPU Memory |\n",
            "|        ID   ID                                                   Usage      |\n",
            "|=============================================================================|\n",
            "|  No running processes found                                                 |\n",
            "+-----------------------------------------------------------------------------+\n"
          ],
          "name": "stdout"
        }
      ]
    },
    {
      "cell_type": "code",
      "metadata": {
        "id": "VWgL5u7z2llA"
      },
      "source": [
        "# download config\n",
        "!wget -O /content/yolov4.cfg \"https://raw.githubusercontent.com/vincentgong7/VG_AlexeyAB_darknet/master/cfg/yolov4.cfg\"\n",
        "!wget -O /content/coco.data \"https://raw.githubusercontent.com/vincentgong7/VG_AlexeyAB_darknet/master/cfg/coco.data\"\n",
        "!wget -O /content/yolov4.weights.7z.001 \"https://github.com/vincentgong7/VG_AlexeyAB_darknet/raw/master/weights/yolov4.weights.7z.001\""
      ],
      "execution_count": null,
      "outputs": []
    },
    {
      "cell_type": "code",
      "metadata": {
        "id": "3jrkVTehBOFA"
      },
      "source": [
        "!7z x /content/yolov4.weights.7z.001"
      ],
      "execution_count": null,
      "outputs": []
    },
    {
      "cell_type": "code",
      "metadata": {
        "id": "xQIH18ZAuVWN"
      },
      "source": [
        "def yolo():\n",
        "  \"\"\"\n",
        "  Perform object detection\n",
        "  \"\"\"\n",
        "  global NET_MAIN, META_MAIN, ALT_MAIN\n",
        "  config_path = ''\n",
        "  weight_path = ''\n",
        "  meta_path = ''\n",
        "\n",
        "  \n",
        "\n",
        "\n",
        "\n"
      ],
      "execution_count": 22,
      "outputs": []
    }
  ]
}