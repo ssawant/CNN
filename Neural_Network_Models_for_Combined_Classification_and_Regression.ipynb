{
  "nbformat": 4,
  "nbformat_minor": 0,
  "metadata": {
    "colab": {
      "name": "Neural Network Models for Combined Classification and Regression.ipynb",
      "provenance": [],
      "authorship_tag": "ABX9TyO/Irczy/x9RHNC4X3gLxI2",
      "include_colab_link": true
    },
    "kernelspec": {
      "name": "python3",
      "display_name": "Python 3"
    },
    "language_info": {
      "name": "python"
    }
  },
  "cells": [
    {
      "cell_type": "markdown",
      "metadata": {
        "id": "view-in-github",
        "colab_type": "text"
      },
      "source": [
        "<a href=\"https://colab.research.google.com/github/ssawant/CNN/blob/main/Neural_Network_Models_for_Combined_Classification_and_Regression.ipynb\" target=\"_parent\"><img src=\"https://colab.research.google.com/assets/colab-badge.svg\" alt=\"Open In Colab\"/></a>"
      ]
    },
    {
      "cell_type": "code",
      "metadata": {
        "colab": {
          "base_uri": "https://localhost:8080/"
        },
        "id": "5hqwWj2bAi4Z",
        "outputId": "190ae8c6-1127-4e95-f264-6c5e6e29f166"
      },
      "source": [
        "import tensorflow as tf\n",
        "print(tf.__version__)"
      ],
      "execution_count": 1,
      "outputs": [
        {
          "output_type": "stream",
          "text": [
            "2.4.1\n"
          ],
          "name": "stdout"
        }
      ]
    },
    {
      "cell_type": "code",
      "metadata": {
        "id": "6q_ZO2GCAuOf"
      },
      "source": [
        "import pandas as pd\n",
        "import matplotlib.pyplot as plt\n",
        "\n",
        "url = 'https://raw.githubusercontent.com/jbrownlee/Datasets/master/abalone.csv'"
      ],
      "execution_count": 3,
      "outputs": []
    },
    {
      "cell_type": "code",
      "metadata": {
        "colab": {
          "base_uri": "https://localhost:8080/"
        },
        "id": "RTlaCFRTVWi3",
        "outputId": "e931c1b3-66b7-45b3-86d0-546256db7e0d"
      },
      "source": [
        "df = pd.read_csv(url, header=None)\n",
        "df.shape"
      ],
      "execution_count": 4,
      "outputs": [
        {
          "output_type": "execute_result",
          "data": {
            "text/plain": [
              "(4177, 9)"
            ]
          },
          "metadata": {
            "tags": []
          },
          "execution_count": 4
        }
      ]
    },
    {
      "cell_type": "code",
      "metadata": {
        "colab": {
          "base_uri": "https://localhost:8080/",
          "height": 204
        },
        "id": "6u-93FVvVgWe",
        "outputId": "4206298d-1731-418f-b85e-6a76a252199e"
      },
      "source": [
        "df.sample(5)"
      ],
      "execution_count": 6,
      "outputs": [
        {
          "output_type": "execute_result",
          "data": {
            "text/html": [
              "<div>\n",
              "<style scoped>\n",
              "    .dataframe tbody tr th:only-of-type {\n",
              "        vertical-align: middle;\n",
              "    }\n",
              "\n",
              "    .dataframe tbody tr th {\n",
              "        vertical-align: top;\n",
              "    }\n",
              "\n",
              "    .dataframe thead th {\n",
              "        text-align: right;\n",
              "    }\n",
              "</style>\n",
              "<table border=\"1\" class=\"dataframe\">\n",
              "  <thead>\n",
              "    <tr style=\"text-align: right;\">\n",
              "      <th></th>\n",
              "      <th>0</th>\n",
              "      <th>1</th>\n",
              "      <th>2</th>\n",
              "      <th>3</th>\n",
              "      <th>4</th>\n",
              "      <th>5</th>\n",
              "      <th>6</th>\n",
              "      <th>7</th>\n",
              "      <th>8</th>\n",
              "    </tr>\n",
              "  </thead>\n",
              "  <tbody>\n",
              "    <tr>\n",
              "      <th>4077</th>\n",
              "      <td>I</td>\n",
              "      <td>0.550</td>\n",
              "      <td>0.435</td>\n",
              "      <td>0.125</td>\n",
              "      <td>0.7410</td>\n",
              "      <td>0.3480</td>\n",
              "      <td>0.1585</td>\n",
              "      <td>0.206</td>\n",
              "      <td>9</td>\n",
              "    </tr>\n",
              "    <tr>\n",
              "      <th>3851</th>\n",
              "      <td>M</td>\n",
              "      <td>0.560</td>\n",
              "      <td>0.440</td>\n",
              "      <td>0.130</td>\n",
              "      <td>0.8255</td>\n",
              "      <td>0.2425</td>\n",
              "      <td>0.2020</td>\n",
              "      <td>0.285</td>\n",
              "      <td>10</td>\n",
              "    </tr>\n",
              "    <tr>\n",
              "      <th>277</th>\n",
              "      <td>M</td>\n",
              "      <td>0.610</td>\n",
              "      <td>0.500</td>\n",
              "      <td>0.240</td>\n",
              "      <td>1.6420</td>\n",
              "      <td>0.5320</td>\n",
              "      <td>0.3345</td>\n",
              "      <td>0.690</td>\n",
              "      <td>18</td>\n",
              "    </tr>\n",
              "    <tr>\n",
              "      <th>2105</th>\n",
              "      <td>M</td>\n",
              "      <td>0.585</td>\n",
              "      <td>0.480</td>\n",
              "      <td>0.185</td>\n",
              "      <td>1.0400</td>\n",
              "      <td>0.4340</td>\n",
              "      <td>0.2650</td>\n",
              "      <td>0.285</td>\n",
              "      <td>10</td>\n",
              "    </tr>\n",
              "    <tr>\n",
              "      <th>1706</th>\n",
              "      <td>M</td>\n",
              "      <td>0.645</td>\n",
              "      <td>0.505</td>\n",
              "      <td>0.150</td>\n",
              "      <td>1.1605</td>\n",
              "      <td>0.5190</td>\n",
              "      <td>0.2615</td>\n",
              "      <td>0.335</td>\n",
              "      <td>10</td>\n",
              "    </tr>\n",
              "  </tbody>\n",
              "</table>\n",
              "</div>"
            ],
            "text/plain": [
              "      0      1      2      3       4       5       6      7   8\n",
              "4077  I  0.550  0.435  0.125  0.7410  0.3480  0.1585  0.206   9\n",
              "3851  M  0.560  0.440  0.130  0.8255  0.2425  0.2020  0.285  10\n",
              "277   M  0.610  0.500  0.240  1.6420  0.5320  0.3345  0.690  18\n",
              "2105  M  0.585  0.480  0.185  1.0400  0.4340  0.2650  0.285  10\n",
              "1706  M  0.645  0.505  0.150  1.1605  0.5190  0.2615  0.335  10"
            ]
          },
          "metadata": {
            "tags": []
          },
          "execution_count": 6
        }
      ]
    },
    {
      "cell_type": "code",
      "metadata": {
        "id": "qG80tPp7VmJF"
      },
      "source": [
        "ds = df.values"
      ],
      "execution_count": 70,
      "outputs": []
    },
    {
      "cell_type": "code",
      "metadata": {
        "id": "o-hKpXM1W5mt"
      },
      "source": [
        "X, y = ds[:,1:-1], ds[:,-1]\n",
        "X, y = X.astype('float'), y.astype('float')"
      ],
      "execution_count": 73,
      "outputs": []
    },
    {
      "cell_type": "markdown",
      "metadata": {
        "id": "cksw9n1AgLVk"
      },
      "source": [
        "## Regression Model"
      ]
    },
    {
      "cell_type": "code",
      "metadata": {
        "id": "RQAcLmkiXhy9"
      },
      "source": [
        "from sklearn.model_selection import train_test_split\n",
        "from sklearn.metrics import mean_absolute_error"
      ],
      "execution_count": 36,
      "outputs": []
    },
    {
      "cell_type": "code",
      "metadata": {
        "id": "kXpqbzWlXz1l"
      },
      "source": [
        "# split the data into train test split\n",
        "X_train, X_test, y_train , y_test = train_test_split(X, y, test_size=0.33, random_state=1)"
      ],
      "execution_count": 26,
      "outputs": []
    },
    {
      "cell_type": "code",
      "metadata": {
        "id": "ui-pB_WdYcJG"
      },
      "source": [
        "from tensorflow.keras.models import Sequential\n",
        "from tensorflow.keras.layers import Dense\n",
        "\n",
        "n_features = X.shape[1]"
      ],
      "execution_count": 32,
      "outputs": []
    },
    {
      "cell_type": "code",
      "metadata": {
        "id": "LOaENYmlZH80"
      },
      "source": [
        "# define model\n",
        "\n",
        "model = Sequential()\n",
        "model.add(Dense(20, activation=tf.nn.relu, kernel_initializer=tf.initializers.he_uniform, input_dim=n_features))\n",
        "model.add(Dense(10, activation=tf.nn.relu, kernel_initializer=tf.initializers.he_uniform))\n",
        "model.add(Dense(1, activation='linear'))"
      ],
      "execution_count": 34,
      "outputs": []
    },
    {
      "cell_type": "code",
      "metadata": {
        "id": "mfdKslGDaJPt"
      },
      "source": [
        "# complie the model\n",
        "model.compile(optimizer='adam', loss='mse')"
      ],
      "execution_count": 35,
      "outputs": []
    },
    {
      "cell_type": "code",
      "metadata": {
        "id": "bUOg-EV4aZBX"
      },
      "source": [
        "# fit the model on dataset\n",
        "model.fit(X_train, y_train, epochs=150, batch_size=32, verbose=2)"
      ],
      "execution_count": null,
      "outputs": []
    },
    {
      "cell_type": "code",
      "metadata": {
        "colab": {
          "base_uri": "https://localhost:8080/"
        },
        "id": "oFJERl7_aoZs",
        "outputId": "bd7d7d94-e11d-4483-fe08-0d2a2aa12572"
      },
      "source": [
        "# evaluate on test data\n",
        "yhat = model.predict(X_test)\n",
        "error = mean_absolute_error(y_test, yhat)\n",
        "print(f\"MEA: {error:.3f}\")"
      ],
      "execution_count": 45,
      "outputs": [
        {
          "output_type": "stream",
          "text": [
            "MEA: 1.514\n"
          ],
          "name": "stdout"
        }
      ]
    },
    {
      "cell_type": "markdown",
      "metadata": {
        "id": "PZY7UnE9gEPe"
      },
      "source": [
        "## Classification Model"
      ]
    },
    {
      "cell_type": "code",
      "metadata": {
        "id": "n95unJQzhDNE"
      },
      "source": [
        "from sklearn.preprocessing import LabelEncoder\n",
        "from sklearn.metrics import accuracy_score\n",
        "\n",
        "import numpy as np"
      ],
      "execution_count": 104,
      "outputs": []
    },
    {
      "cell_type": "code",
      "metadata": {
        "id": "vmgXzhqNq18p"
      },
      "source": [
        "# load dataset\n",
        "url = 'https://raw.githubusercontent.com/jbrownlee/Datasets/master/abalone.csv'\n",
        "dataframe = pd.read_csv(url, header=None)\n",
        "dataset = dataframe.values\n",
        "# split into input (X) and output (y) variables\n",
        "X, y = dataset[:, 1:-1], dataset[:, -1]\n",
        "X, y = X.astype('float'), y.astype('float')\n",
        "n_features = X.shape[1]\n",
        "# encode strings to integer\n",
        "y = LabelEncoder().fit_transform(y)\n",
        "n_class = len(np.unique(y))\n",
        "# split data into train and test sets\n",
        "X_train, X_test, y_train, y_test = train_test_split(X, y, test_size=0.33, random_state=1)\n",
        "# define the keras model\n",
        "model = Sequential()\n",
        "model.add(Dense(20, input_dim=n_features, activation='relu', kernel_initializer='he_normal'))\n",
        "model.add(Dense(10, activation='relu', kernel_initializer='he_normal'))\n",
        "model.add(Dense(n_class, activation='softmax'))\n",
        "# compile the keras model\n",
        "model.compile(loss='sparse_categorical_crossentropy', optimizer='adam')"
      ],
      "execution_count": 99,
      "outputs": []
    },
    {
      "cell_type": "code",
      "metadata": {
        "id": "G1i4fmMjq9MH"
      },
      "source": [
        "# fit the keras model on the dataset\n",
        "model.fit(X_train, y_train, epochs=150, batch_size=32, verbose=2)"
      ],
      "execution_count": null,
      "outputs": []
    },
    {
      "cell_type": "code",
      "metadata": {
        "colab": {
          "base_uri": "https://localhost:8080/"
        },
        "id": "TLkwua_jrCc_",
        "outputId": "81100919-25f3-4126-fcc4-6a9bac517030"
      },
      "source": [
        "# evaluate on test set\n",
        "yhat = model.predict(X_test)\n",
        "yhat = tf.argmax(yhat, axis=-1)\n",
        "\n",
        "acc = accuracy_score(y_test, yhat)\n",
        "print('Accuracy: %.3f' % acc)"
      ],
      "execution_count": 105,
      "outputs": [
        {
          "output_type": "stream",
          "text": [
            "Accuracy: 0.276\n"
          ],
          "name": "stdout"
        }
      ]
    }
  ]
}